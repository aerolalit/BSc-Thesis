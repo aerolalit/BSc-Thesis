{
 "cells": [
  {
   "cell_type": "code",
   "execution_count": 32,
   "metadata": {},
   "outputs": [
    {
     "name": "stdout",
     "output_type": "stream",
     "text": [
      "[[ 0.7622877   0.68130173  0.05068213  0.09392972  0.          0.        ]\n",
      " [-0.15013443 -0.97326656 -0.0198273   0.06725969  0.          0.        ]\n",
      " [-0.04543618 -0.07258727 -0.32436559  0.24920164  0.07030756 -0.04573819]\n",
      " [-0.02089495 -0.06469026 -0.11783667 -0.34991942  0.02985892  0.05590905]\n",
      " [ 0.          0.         -0.04818729  0.06175382  0.14160977 -0.2219946 ]\n",
      " [ 0.          0.          0.04586628  0.01747131  0.03249752  0.22760184]]\n"
     ]
    }
   ],
   "source": [
    "N= 6\n",
    "if N%3 != 0:\n",
    "    raise Exception(\"size of Network is not exactly divisible by 3\")\n",
    "\n",
    "# np.random.seed(92)\n",
    "n = N/3\n",
    "FAST = 0.7\n",
    "MEDIUM = 0.3\n",
    "SLOW = 0.0\n",
    "\n",
    "a =  ( np.random.rand(n,n) - 0.5  ) * 2\n",
    "b =  ( np.random.rand(n,n) - 0.5  ) * 1\n",
    "c =  ( np.random.rand(n,n) - 0.5  ) * 0.5\n",
    "\n",
    "\n",
    "d = ( np.random.rand(n,n) - 0.5 ) * 2 * 0.1\n",
    "e = ( np.random.rand(n,n) - 0.5 ) * 2 * 0.1\n",
    "f = ( np.random.rand(n,n) - 0.5 ) * 2 * 0.1\n",
    "g = ( np.random.rand(n,n) - 0.5 ) * 2 * 0.1\n",
    "\n",
    "h = np.zeros((n,n))\n",
    "print np.matrix( np.ma.concatenate( [ np.ma.concatenate([a,d,h]), np.ma.concatenate([g,b,e]), np.ma.concatenate([h,f,c]) ], axis = 1) )\n",
    "\n"
   ]
  },
  {
   "cell_type": "code",
   "execution_count": 7,
   "metadata": {},
   "outputs": [
    {
     "data": {
      "text/plain": [
       "array([[0.82603112, 0.59328145, 0.77315575, 0.44588414, 0.45110399,\n",
       "        0.46933108, 0.1846077 , 0.0116822 , 0.95694534, 0.94292293],\n",
       "       [0.04774351, 0.94334876, 0.53635171, 0.18752163, 0.27960891,\n",
       "        0.57508552, 0.47803854, 0.88593103, 0.23171935, 0.98905735],\n",
       "       [0.60342469, 0.88643691, 0.45243689, 0.69296928, 0.94589352,\n",
       "        0.29285374, 0.64731188, 0.1854676 , 0.38483391, 0.02409181],\n",
       "       [0.55547818, 0.79527145, 0.47844406, 0.03193153, 0.03557628,\n",
       "        0.98502256, 0.70410561, 0.87443481, 0.10537433, 0.51951306],\n",
       "       [0.27890975, 0.07442907, 0.48490038, 0.92110076, 0.57424435,\n",
       "        0.00852029, 0.90408875, 0.23660351, 0.1669236 , 0.89202183],\n",
       "       [0.34276831, 0.72298435, 0.36724532, 0.95324483, 0.18458433,\n",
       "        0.11837575, 0.6427026 , 0.69412912, 0.93790577, 0.23196627],\n",
       "       [0.01343691, 0.76462622, 0.62399015, 0.31490392, 0.36314095,\n",
       "        0.41534039, 0.47742071, 0.82198152, 0.18732559, 0.05212625],\n",
       "       [0.77807278, 0.00756046, 0.56734303, 0.71019022, 0.03412651,\n",
       "        0.2076314 , 0.34320087, 0.70079733, 0.04849052, 0.09135548],\n",
       "       [0.44918277, 0.81967207, 0.91750564, 0.92143334, 0.4344993 ,\n",
       "        0.53335467, 0.00518836, 0.06632717, 0.87724202, 0.11698535],\n",
       "       [0.76072825, 0.99641511, 0.82529234, 0.00113691, 0.00932566,\n",
       "        0.44215585, 0.79269099, 0.86302985, 0.9239142 , 0.48833462]])"
      ]
     },
     "execution_count": 7,
     "metadata": {},
     "output_type": "execute_result"
    }
   ],
   "source": [
    "np.random.rand(10,10)\n"
   ]
  },
  {
   "cell_type": "code",
   "execution_count": null,
   "metadata": {
    "collapsed": true
   },
   "outputs": [],
   "source": []
  }
 ],
 "metadata": {
  "kernelspec": {
   "display_name": "Python 2",
   "language": "python",
   "name": "python2"
  },
  "language_info": {
   "codemirror_mode": {
    "name": "ipython",
    "version": 2
   },
   "file_extension": ".py",
   "mimetype": "text/x-python",
   "name": "python",
   "nbconvert_exporter": "python",
   "pygments_lexer": "ipython2",
   "version": "2.7.14"
  },
  "varInspector": {
   "cols": {
    "lenName": 16,
    "lenType": 16,
    "lenVar": 40
   },
   "kernels_config": {
    "python": {
     "delete_cmd_postfix": "",
     "delete_cmd_prefix": "del ",
     "library": "var_list.py",
     "varRefreshCmd": "print(var_dic_list())"
    },
    "r": {
     "delete_cmd_postfix": ") ",
     "delete_cmd_prefix": "rm(",
     "library": "var_list.r",
     "varRefreshCmd": "cat(var_dic_list()) "
    }
   },
   "types_to_exclude": [
    "module",
    "function",
    "builtin_function_or_method",
    "instance",
    "_Feature"
   ],
   "window_display": false
  }
 },
 "nbformat": 4,
 "nbformat_minor": 2
}
