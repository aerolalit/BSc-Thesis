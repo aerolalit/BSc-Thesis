{
 "cells": [
  {
   "cell_type": "code",
   "execution_count": 1,
   "metadata": {
    "collapsed": true
   },
   "outputs": [],
   "source": [
    "%matplotlib notebook\n",
    "import os\n",
    "import math\n",
    "from collections import deque\n",
    "import numpy as np\n",
    "import pandas as pd\n",
    "import seaborn as sns\n",
    "import calendar\n",
    "\n",
    "import matplotlib.pyplot as plt\n",
    "import plotly.plotly as py\n",
    "import plotly.graph_objs as go\n",
    "# from bokeh.charts import TimeSeries, show\n",
    "\n",
    "from scipy import stats"
   ]
  },
  {
   "cell_type": "code",
   "execution_count": 2,
   "metadata": {
    "collapsed": true
   },
   "outputs": [],
   "source": [
    "train_df = pd.read_csv(\"../input/train_1.csv\")"
   ]
  },
  {
   "cell_type": "code",
   "execution_count": 3,
   "metadata": {},
   "outputs": [
    {
     "data": {
      "text/html": [
       "<div>\n",
       "<style scoped>\n",
       "    .dataframe tbody tr th:only-of-type {\n",
       "        vertical-align: middle;\n",
       "    }\n",
       "\n",
       "    .dataframe tbody tr th {\n",
       "        vertical-align: top;\n",
       "    }\n",
       "\n",
       "    .dataframe thead th {\n",
       "        text-align: right;\n",
       "    }\n",
       "</style>\n",
       "<table border=\"1\" class=\"dataframe\">\n",
       "  <thead>\n",
       "    <tr style=\"text-align: right;\">\n",
       "      <th></th>\n",
       "      <th>project</th>\n",
       "      <th>access</th>\n",
       "      <th>agent</th>\n",
       "    </tr>\n",
       "  </thead>\n",
       "  <tbody>\n",
       "    <tr>\n",
       "      <th>count</th>\n",
       "      <td>145063</td>\n",
       "      <td>145063</td>\n",
       "      <td>145063</td>\n",
       "    </tr>\n",
       "    <tr>\n",
       "      <th>unique</th>\n",
       "      <td>9</td>\n",
       "      <td>3</td>\n",
       "      <td>2</td>\n",
       "    </tr>\n",
       "    <tr>\n",
       "      <th>top</th>\n",
       "      <td>en.wikipedia.org</td>\n",
       "      <td>all-access</td>\n",
       "      <td>all-agents</td>\n",
       "    </tr>\n",
       "    <tr>\n",
       "      <th>freq</th>\n",
       "      <td>24108</td>\n",
       "      <td>74315</td>\n",
       "      <td>110150</td>\n",
       "    </tr>\n",
       "  </tbody>\n",
       "</table>\n",
       "</div>"
      ],
      "text/plain": [
       "                 project      access       agent\n",
       "count             145063      145063      145063\n",
       "unique                 9           3           2\n",
       "top     en.wikipedia.org  all-access  all-agents\n",
       "freq               24108       74315      110150"
      ]
     },
     "execution_count": 3,
     "metadata": {},
     "output_type": "execute_result"
    }
   ],
   "source": [
    "page_details = pd.DataFrame([i.split(\"_\")[-3:] for i in train_df[\"Page\"]])\n",
    "page_details.columns = [\"project\", \"access\", \"agent\"]\n",
    "page_details.describe()"
   ]
  },
  {
   "cell_type": "code",
   "execution_count": 4,
   "metadata": {
    "collapsed": true
   },
   "outputs": [],
   "source": [
    "def bestWeeklySines():\n",
    "    start =0\n",
    "    maxCoeff = 0\n",
    "    bestIndex = 0\n",
    "    for start in range(7):\n",
    "        tempCoeff,__ = stats.pearsonr(np.array(signal[0,:]).flatten() .tolist(), sine(7,range(start, start+550) ) )\n",
    "#         print tempCoeff, __\n",
    "        if abs(maxCoeff) < abs(tempCoeff):\n",
    "            maxCoeff = tempCoeff\n",
    "            bestIndex = start\n",
    "    return bestIndex"
   ]
  },
  {
   "cell_type": "code",
   "execution_count": 5,
   "metadata": {},
   "outputs": [
    {
     "name": "stdout",
     "output_type": "stream",
     "text": [
      "['zh.wikipedia.org', 'fr.wikipedia.org', 'en.wikipedia.org', 'commons.wikimedia.org', 'ru.wikipedia.org', 'www.mediawiki.org', 'de.wikipedia.org', 'ja.wikipedia.org', 'es.wikipedia.org']\n",
      "['all-access', 'desktop', 'mobile-web']\n",
      "['spider', 'all-agents']\n"
     ]
    }
   ],
   "source": [
    "project_columns = page_details['project'].unique()\n",
    "access_columns = page_details['access'].unique()\n",
    "agents_columns = page_details['agent'].unique()\n",
    "print(list(page_details['project'].unique()))\n",
    "print(list(page_details['access'].unique()))\n",
    "print(list(page_details['agent'].unique()))"
   ]
  },
  {
   "cell_type": "code",
   "execution_count": 6,
   "metadata": {
    "collapsed": true
   },
   "outputs": [],
   "source": [
    "train_df = page_details.merge(train_df, how=\"inner\", left_index=True, right_index=True)"
   ]
  },
  {
   "cell_type": "code",
   "execution_count": 7,
   "metadata": {
    "collapsed": true
   },
   "outputs": [],
   "source": [
    "a = train_df.groupby('project').get_group('en.wikipedia.org').groupby('agent').get_group('all-agents')\n"
   ]
  },
  {
   "cell_type": "code",
   "execution_count": 8,
   "metadata": {
    "collapsed": true,
    "scrolled": false
   },
   "outputs": [],
   "source": [
    "\n",
    "def sine(period, length):\n",
    "    x = np.array(length)\n",
    "    y = np.sin(2 * np.pi * x / period)\n",
    "    return y"
   ]
  },
  {
   "cell_type": "code",
   "execution_count": 9,
   "metadata": {},
   "outputs": [
    {
     "name": "stderr",
     "output_type": "stream",
     "text": [
      "/usr/local/lib/python2.7/site-packages/scipy/stats/stats.py:3029: RuntimeWarning:\n",
      "\n",
      "invalid value encountered in double_scalars\n",
      "\n"
     ]
    },
    {
     "ename": "NameError",
     "evalue": "name 'save_obj' is not defined",
     "output_type": "error",
     "traceback": [
      "\u001b[0;31m---------------------------------------------------------------------------\u001b[0m",
      "\u001b[0;31mNameError\u001b[0m                                 Traceback (most recent call last)",
      "\u001b[0;32m<ipython-input-9-97b4f2d99671>\u001b[0m in \u001b[0;36m<module>\u001b[0;34m()\u001b[0m\n\u001b[1;32m     14\u001b[0m                 \u001b[0mcorrCoeffDict\u001b[0m\u001b[0;34m[\u001b[0m\u001b[0mcorrCoeff\u001b[0m\u001b[0;34m]\u001b[0m \u001b[0;34m=\u001b[0m \u001b[0mi\u001b[0m\u001b[0;34m\u001b[0m\u001b[0m\n\u001b[1;32m     15\u001b[0m \u001b[0;34m\u001b[0m\u001b[0m\n\u001b[0;32m---> 16\u001b[0;31m     \u001b[0msave_obj\u001b[0m\u001b[0;34m(\u001b[0m\u001b[0mcorrCoeffDict\u001b[0m\u001b[0;34m,\u001b[0m\u001b[0;34m\"sin\"\u001b[0m\u001b[0;34m+\u001b[0m\u001b[0mstr\u001b[0m\u001b[0;34m(\u001b[0m\u001b[0mstart\u001b[0m\u001b[0;34m)\u001b[0m\u001b[0;34m)\u001b[0m\u001b[0;34m\u001b[0m\u001b[0m\n\u001b[0m\u001b[1;32m     17\u001b[0m     \u001b[0;32mprint\u001b[0m \u001b[0;34m\"Done.\"\u001b[0m\u001b[0;34m+\u001b[0m\u001b[0mstr\u001b[0m\u001b[0;34m(\u001b[0m\u001b[0mstart\u001b[0m\u001b[0;34m)\u001b[0m\u001b[0;34m\u001b[0m\u001b[0m\n",
      "\u001b[0;31mNameError\u001b[0m: name 'save_obj' is not defined"
     ]
    }
   ],
   "source": [
    "for start in range(3,7):\n",
    "    count,__ = train_df.shape\n",
    "    corrCoeffDict = {}\n",
    "    # num = 6\n",
    "#     start =2\n",
    "    for i in range(count):\n",
    "\n",
    "        corrCoeff,__ =  stats.pearsonr(sine(7,range(start, start+550) ), train_df.iloc[i,4:].values)\n",
    "        if not np.isnan(corrCoeff):# and a.iloc[num,3] != train_df.iloc[i,3]:\n",
    "            if len(corrCoeffDict.keys()) <20:\n",
    "                corrCoeffDict[corrCoeff] = i\n",
    "            elif corrCoeff > min(corrCoeffDict.keys()):\n",
    "                del corrCoeffDict[ min(corrCoeffDict.keys()) ]\n",
    "                corrCoeffDict[corrCoeff] = i\n",
    "\n",
    "    save_obj(corrCoeffDict,\"sin\"+str(start))\n",
    "    print \"Done.\"+str(start)\n"
   ]
  },
  {
   "cell_type": "code",
   "execution_count": 68,
   "metadata": {},
   "outputs": [
    {
     "data": {
      "text/plain": [
       "{0.51638224232403884: 54881,\n",
       " 0.52185691042213211: 140646,\n",
       " 0.5263221019301304: 120521,\n",
       " 0.52748761468525129: 140448,\n",
       " 0.52945051176606583: 88723,\n",
       " 0.53296841783087845: 107967,\n",
       " 0.53579138875877419: 63599,\n",
       " 0.53598604311168996: 60711,\n",
       " 0.53755923582211829: 99133,\n",
       " 0.54338582298520843: 30801,\n",
       " 0.5463387209560624: 103784,\n",
       " 0.55279010081976143: 38490,\n",
       " 0.55995112537100866: 61961,\n",
       " 0.56083722399815739: 87536,\n",
       " 0.56184742674465094: 9672,\n",
       " 0.56419361120625333: 86646,\n",
       " 0.56600960591107441: 27114,\n",
       " 0.56837900814433717: 8051,\n",
       " 0.57569144666410044: 120246,\n",
       " 0.65484791185336999: 63024}"
      ]
     },
     "execution_count": 68,
     "metadata": {},
     "output_type": "execute_result"
    }
   ],
   "source": [
    "start = 4\n",
    "corrCoeffDict = load_obj(\"sin\"+str(start))\n",
    "corrCoeffDict"
   ]
  },
  {
   "cell_type": "code",
   "execution_count": 71,
   "metadata": {},
   "outputs": [
    {
     "name": "stdout",
     "output_type": "stream",
     "text": [
      "Lillet_de.wikipedia.org_mobile-web_all-agents\n",
      "牙狼-GARO-_ja.wikipedia.org_all-access_all-agents\n",
      "Chinin_de.wikipedia.org_mobile-web_all-agents\n",
      "天才衝衝衝_zh.wikipedia.org_mobile-web_all-agents\n",
      "Long_Island_Iced_Tea_de.wikipedia.org_mobile-web_all-agents\n",
      "Hochzeitstag_de.wikipedia.org_mobile-web_all-agents\n",
      "Gin_de.wikipedia.org_mobile-web_all-agents\n",
      "妖怪ウォッチ_(アニメ)_ja.wikipedia.org_desktop_all-agents\n",
      "歡樂在一起_zh.wikipedia.org_all-access_all-agents\n",
      "廉政英雄登場角色列表_zh.wikipedia.org_mobile-web_all-agents\n",
      "Jägermeister_es.wikipedia.org_mobile-web_all-agents\n",
      "Gin_de.wikipedia.org_all-access_all-agents\n",
      "Jägermeister_fr.wikipedia.org_mobile-web_all-agents\n",
      "Wodka_de.wikipedia.org_mobile-web_all-agents\n",
      "歡樂在一起_zh.wikipedia.org_desktop_all-agents\n",
      "The_Big_Bang_Theory_fr.wikipedia.org_mobile-web_all-agents\n",
      "Фабрика_звёзд_(Россия)_ru.wikipedia.org_mobile-web_all-agents\n",
      "Martini_(Cocktail)_de.wikipedia.org_mobile-web_all-agents\n",
      "Moscow_Mule_de.wikipedia.org_mobile-web_all-agents\n",
      "牙狼-GARO-_ja.wikipedia.org_mobile-web_all-agents\n"
     ]
    }
   ],
   "source": [
    "start = 6\n",
    "corrCoeffDict = load_obj(\"sin\"+str(start))\n",
    "for key in corrCoeffDict:\n",
    "    print train_df.iloc[corrCoeffDict[key],3]\n",
    "#     plt.plot(train_df.iloc[corrCoeffDict[key],4:].values)\n",
    "# plt.plot(sine(7,range(start, start+550) ) )\n"
   ]
  },
  {
   "cell_type": "code",
   "execution_count": 94,
   "metadata": {
    "collapsed": true,
    "scrolled": false
   },
   "outputs": [],
   "source": [
    "enWiki_df = train_df.groupby('project').get_group('en.wikipedia.org').groupby('agent').get_group('all-agents')\n",
    "corrCoeffDict = {}\n",
    "count,__ = train_df.shape\n",
    "sineall= []\n",
    "for i in range(count):\n",
    "    indexCoeffPair = (-1,0)\n",
    "    for start in range(7):\n",
    "        corrCoeff,__ =  stats.pearsonr(sine(7,range(start, start+550) ), train_df.iloc[i,4:].values)\n",
    "#         print abs(indexCoeffPair[1]) ,abs(corrCoeff)\n",
    "        if not np.isnan(corrCoeff) and abs(indexCoeffPair[1]) < abs(corrCoeff): \n",
    "            indexCoeffPair = (start, corrCoeff)\n",
    "    sineall.append(indexCoeffPair)"
   ]
  },
  {
   "cell_type": "code",
   "execution_count": 114,
   "metadata": {
    "collapsed": true
   },
   "outputs": [],
   "source": [
    "# t = load_obj(\"sineall\")\n",
    "# t[300][0] == stats.pearsonr(sine(7,range(t[300][0], t[300][0]+550) ), train_df.iloc[300,4:].values)"
   ]
  },
  {
   "cell_type": "code",
   "execution_count": null,
   "metadata": {
    "collapsed": true
   },
   "outputs": [],
   "source": [
    "import pickle\n",
    "def save_obj(obj, name ):\n",
    "    with open('./../obj/'+ name + '.pkl', 'wb') as f:\n",
    "        pickle.dump(obj, f, pickle.HIGHEST_PROTOCOL)\n",
    "\n",
    "def load_obj(name ):\n",
    "    with open('./../obj/' + name + '.pkl', 'rb') as f:\n",
    "        return pickle.load(f)"
   ]
  },
  {
   "cell_type": "code",
   "execution_count": 42,
   "metadata": {
    "collapsed": true,
    "scrolled": false
   },
   "outputs": [],
   "source": [
    "save_obj(corrCoeffDict,\"sin\"+str(start))"
   ]
  },
  {
   "cell_type": "code",
   "execution_count": 43,
   "metadata": {
    "scrolled": false
   },
   "outputs": [
    {
     "data": {
      "text/plain": [
       "{0.80520561894150566: 67769,\n",
       " 0.80894603505619045: 68005,\n",
       " 0.81277894551251162: 10367,\n",
       " 0.8137964159789014: 138069,\n",
       " 0.8138305037501905: 66055,\n",
       " 0.81415423355242245: 8363,\n",
       " 0.81419625093447878: 5080,\n",
       " 0.8146411989731146: 139170,\n",
       " 0.814653493991503: 67910,\n",
       " 0.81625675694498823: 67106,\n",
       " 0.81922424435680474: 66939,\n",
       " 0.81950957766840771: 66095,\n",
       " 0.81962364427421297: 139661,\n",
       " 0.82155172838665136: 139006,\n",
       " 0.82186789091331069: 67649,\n",
       " 0.82213129525530615: 8473,\n",
       " 0.82524979477020799: 12504,\n",
       " 0.82546177948392085: 69287,\n",
       " 0.82615438778073624: 40339,\n",
       " 0.83618808369741549: 11796}"
      ]
     },
     "execution_count": 43,
     "metadata": {},
     "output_type": "execute_result"
    }
   ],
   "source": [
    "load_obj(\"sin\"+str(start))\n",
    "# \"sin\"+str(start)"
   ]
  },
  {
   "cell_type": "code",
   "execution_count": null,
   "metadata": {
    "collapsed": true,
    "scrolled": false
   },
   "outputs": [],
   "source": []
  },
  {
   "cell_type": "code",
   "execution_count": null,
   "metadata": {
    "collapsed": true
   },
   "outputs": [],
   "source": []
  },
  {
   "cell_type": "code",
   "execution_count": null,
   "metadata": {
    "collapsed": true
   },
   "outputs": [],
   "source": []
  },
  {
   "cell_type": "code",
   "execution_count": null,
   "metadata": {
    "collapsed": true
   },
   "outputs": [],
   "source": []
  },
  {
   "cell_type": "code",
   "execution_count": null,
   "metadata": {
    "collapsed": true
   },
   "outputs": [],
   "source": []
  }
 ],
 "metadata": {
  "kernelspec": {
   "display_name": "Python 2",
   "language": "python",
   "name": "python2"
  },
  "language_info": {
   "codemirror_mode": {
    "name": "ipython",
    "version": 2
   },
   "file_extension": ".py",
   "mimetype": "text/x-python",
   "name": "python",
   "nbconvert_exporter": "python",
   "pygments_lexer": "ipython2",
   "version": "2.7.14"
  }
 },
 "nbformat": 4,
 "nbformat_minor": 2
}
