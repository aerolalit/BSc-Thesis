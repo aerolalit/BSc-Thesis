{
 "cells": [
  {
   "cell_type": "code",
   "execution_count": 2,
   "metadata": {},
   "outputs": [],
   "source": [
    "%matplotlib inline\n",
    "import os\n",
    "import math\n",
    "from collections import deque\n",
    "import numpy as np\n",
    "import pandas as pd\n",
    "import seaborn as sns\n",
    "import calendar\n",
    "\n",
    "import matplotlib.pyplot as plt\n",
    "import plotly.plotly as py\n",
    "import plotly.graph_objs as go\n",
    "# from bokeh.charts import TimeSeries, show\n",
    "\n",
    "from scipy import stats"
   ]
  },
  {
   "cell_type": "code",
   "execution_count": 3,
   "metadata": {
    "collapsed": true
   },
   "outputs": [],
   "source": [
    "train_df = pd.read_csv(\"../input/train_1.csv\")"
   ]
  },
  {
   "cell_type": "code",
   "execution_count": 4,
   "metadata": {},
   "outputs": [
    {
     "data": {
      "text/html": [
       "<div>\n",
       "<style scoped>\n",
       "    .dataframe tbody tr th:only-of-type {\n",
       "        vertical-align: middle;\n",
       "    }\n",
       "\n",
       "    .dataframe tbody tr th {\n",
       "        vertical-align: top;\n",
       "    }\n",
       "\n",
       "    .dataframe thead th {\n",
       "        text-align: right;\n",
       "    }\n",
       "</style>\n",
       "<table border=\"1\" class=\"dataframe\">\n",
       "  <thead>\n",
       "    <tr style=\"text-align: right;\">\n",
       "      <th></th>\n",
       "      <th>project</th>\n",
       "      <th>access</th>\n",
       "      <th>agent</th>\n",
       "    </tr>\n",
       "  </thead>\n",
       "  <tbody>\n",
       "    <tr>\n",
       "      <th>count</th>\n",
       "      <td>145063</td>\n",
       "      <td>145063</td>\n",
       "      <td>145063</td>\n",
       "    </tr>\n",
       "    <tr>\n",
       "      <th>unique</th>\n",
       "      <td>9</td>\n",
       "      <td>3</td>\n",
       "      <td>2</td>\n",
       "    </tr>\n",
       "    <tr>\n",
       "      <th>top</th>\n",
       "      <td>en.wikipedia.org</td>\n",
       "      <td>all-access</td>\n",
       "      <td>all-agents</td>\n",
       "    </tr>\n",
       "    <tr>\n",
       "      <th>freq</th>\n",
       "      <td>24108</td>\n",
       "      <td>74315</td>\n",
       "      <td>110150</td>\n",
       "    </tr>\n",
       "  </tbody>\n",
       "</table>\n",
       "</div>"
      ],
      "text/plain": [
       "                 project      access       agent\n",
       "count             145063      145063      145063\n",
       "unique                 9           3           2\n",
       "top     en.wikipedia.org  all-access  all-agents\n",
       "freq               24108       74315      110150"
      ]
     },
     "execution_count": 4,
     "metadata": {},
     "output_type": "execute_result"
    }
   ],
   "source": [
    "page_details = pd.DataFrame([i.split(\"_\")[-3:] for i in train_df[\"Page\"]])\n",
    "page_details.columns = [\"project\", \"access\", \"agent\"]\n",
    "page_details.describe()"
   ]
  },
  {
   "cell_type": "code",
   "execution_count": 5,
   "metadata": {},
   "outputs": [
    {
     "name": "stdout",
     "output_type": "stream",
     "text": [
      "['zh.wikipedia.org', 'fr.wikipedia.org', 'en.wikipedia.org', 'commons.wikimedia.org', 'ru.wikipedia.org', 'www.mediawiki.org', 'de.wikipedia.org', 'ja.wikipedia.org', 'es.wikipedia.org']\n",
      "['all-access', 'desktop', 'mobile-web']\n",
      "['spider', 'all-agents']\n"
     ]
    }
   ],
   "source": [
    "project_columns = page_details['project'].unique()\n",
    "access_columns = page_details['access'].unique()\n",
    "agents_columns = page_details['agent'].unique()\n",
    "print(list(page_details['project'].unique()))\n",
    "print(list(page_details['access'].unique()))\n",
    "print(list(page_details['agent'].unique()))"
   ]
  },
  {
   "cell_type": "code",
   "execution_count": 6,
   "metadata": {
    "collapsed": true
   },
   "outputs": [],
   "source": [
    "train_df = page_details.merge(train_df, how=\"inner\", left_index=True, right_index=True)"
   ]
  },
  {
   "cell_type": "code",
   "execution_count": 9,
   "metadata": {},
   "outputs": [
    {
     "name": "stdout",
     "output_type": "stream",
     "text": [
      "(19177, 554) (145063, 554)\n"
     ]
    },
    {
     "data": {
      "text/html": [
       "<div>\n",
       "<style scoped>\n",
       "    .dataframe tbody tr th:only-of-type {\n",
       "        vertical-align: middle;\n",
       "    }\n",
       "\n",
       "    .dataframe tbody tr th {\n",
       "        vertical-align: top;\n",
       "    }\n",
       "\n",
       "    .dataframe thead th {\n",
       "        text-align: right;\n",
       "    }\n",
       "</style>\n",
       "<table border=\"1\" class=\"dataframe\">\n",
       "  <thead>\n",
       "    <tr style=\"text-align: right;\">\n",
       "      <th></th>\n",
       "      <th>project</th>\n",
       "      <th>access</th>\n",
       "      <th>agent</th>\n",
       "      <th>Page</th>\n",
       "      <th>2015-07-01</th>\n",
       "      <th>2015-07-02</th>\n",
       "      <th>2015-07-03</th>\n",
       "      <th>2015-07-04</th>\n",
       "      <th>2015-07-05</th>\n",
       "      <th>2015-07-06</th>\n",
       "      <th>...</th>\n",
       "      <th>2016-12-22</th>\n",
       "      <th>2016-12-23</th>\n",
       "      <th>2016-12-24</th>\n",
       "      <th>2016-12-25</th>\n",
       "      <th>2016-12-26</th>\n",
       "      <th>2016-12-27</th>\n",
       "      <th>2016-12-28</th>\n",
       "      <th>2016-12-29</th>\n",
       "      <th>2016-12-30</th>\n",
       "      <th>2016-12-31</th>\n",
       "    </tr>\n",
       "  </thead>\n",
       "  <tbody>\n",
       "    <tr>\n",
       "      <th>8357</th>\n",
       "      <td>en.wikipedia.org</td>\n",
       "      <td>desktop</td>\n",
       "      <td>all-agents</td>\n",
       "      <td>!vote_en.wikipedia.org_desktop_all-agents</td>\n",
       "      <td>3.0</td>\n",
       "      <td>4.0</td>\n",
       "      <td>7.0</td>\n",
       "      <td>4.0</td>\n",
       "      <td>4.0</td>\n",
       "      <td>2.0</td>\n",
       "      <td>...</td>\n",
       "      <td>3.0</td>\n",
       "      <td>1.0</td>\n",
       "      <td>6.0</td>\n",
       "      <td>3.0</td>\n",
       "      <td>1.0</td>\n",
       "      <td>1.0</td>\n",
       "      <td>3.0</td>\n",
       "      <td>3.0</td>\n",
       "      <td>1.0</td>\n",
       "      <td>0.0</td>\n",
       "    </tr>\n",
       "  </tbody>\n",
       "</table>\n",
       "<p>1 rows × 554 columns</p>\n",
       "</div>"
      ],
      "text/plain": [
       "               project   access       agent  \\\n",
       "8357  en.wikipedia.org  desktop  all-agents   \n",
       "\n",
       "                                           Page  2015-07-01  2015-07-02  \\\n",
       "8357  !vote_en.wikipedia.org_desktop_all-agents         3.0         4.0   \n",
       "\n",
       "      2015-07-03  2015-07-04  2015-07-05  2015-07-06     ...      2016-12-22  \\\n",
       "8357         7.0         4.0         4.0         2.0     ...             3.0   \n",
       "\n",
       "      2016-12-23  2016-12-24  2016-12-25  2016-12-26  2016-12-27  2016-12-28  \\\n",
       "8357         1.0         6.0         3.0         1.0         1.0         3.0   \n",
       "\n",
       "      2016-12-29  2016-12-30  2016-12-31  \n",
       "8357         3.0         1.0         0.0  \n",
       "\n",
       "[1 rows x 554 columns]"
      ]
     },
     "execution_count": 9,
     "metadata": {},
     "output_type": "execute_result"
    }
   ],
   "source": [
    "a = train_df.groupby('project').get_group('en.wikipedia.org').groupby('agent').get_group('all-agents')\n",
    "print a.shape, train_df.shape\n",
    "a.groupby('Page').get_group('!vote_en.wikipedia.org_desktop_all-agents')"
   ]
  },
  {
   "cell_type": "code",
   "execution_count": 31,
   "metadata": {
    "scrolled": false
   },
   "outputs": [
    {
     "data": {
      "text/plain": [
       "'10_Gigabit_Ethernet_en.wikipedia.org_desktop_all-agents'"
      ]
     },
     "execution_count": 31,
     "metadata": {},
     "output_type": "execute_result"
    }
   ],
   "source": [
    "a.iloc[6,3]\n",
    "# for i in range(550):\n",
    "#     print a.iloc[6,i]"
   ]
  },
  {
   "cell_type": "code",
   "execution_count": 32,
   "metadata": {},
   "outputs": [
    {
     "name": "stdout",
     "output_type": "stream",
     "text": [
      "Done.\n"
     ]
    }
   ],
   "source": [
    "count,__ = train_df.shape\n",
    "corrCoeffDict = {}\n",
    "num = 6\n",
    "for i in range(count):\n",
    "    corrCoeff,__ =  stats.pearsonr(a.iloc[num,4:].values, train_df.iloc[i,4:].values)\n",
    "    if not np.isnan(corrCoeff) and a.iloc[num,3] != train_df.iloc[i,3]:\n",
    "        if len(corrCoeffDict.keys()) <20:\n",
    "            corrCoeffDict[corrCoeff] = i\n",
    "        elif corrCoeff > min(corrCoeffDict.keys()):\n",
    "            del corrCoeffDict[ min(corrCoeffDict.keys()) ]\n",
    "            corrCoeffDict[corrCoeff] = i\n",
    "\n",
    "print \"Done.\""
   ]
  },
  {
   "cell_type": "code",
   "execution_count": 33,
   "metadata": {},
   "outputs": [
    {
     "data": {
      "text/plain": [
       "{0.92531388282331761: 65255,\n",
       " 0.92565968670954202: 65942,\n",
       " 0.92817377092805942: 66095,\n",
       " 0.92851402275914507: 69287,\n",
       " 0.92873040693922415: 138069,\n",
       " 0.92876336864040254: 19797,\n",
       " 0.92991321934711724: 42315,\n",
       " 0.93017510170708018: 66055,\n",
       " 0.93234384875001375: 68005,\n",
       " 0.93290540242156472: 139661,\n",
       " 0.93305581534317084: 67649,\n",
       " 0.93431857921480321: 67347,\n",
       " 0.93873775136433235: 139006,\n",
       " 0.93942621191349118: 66939,\n",
       " 0.94122836713583014: 8473,\n",
       " 0.94286502847114317: 10367,\n",
       " 0.94489181476022033: 9997,\n",
       " 0.94633785233404377: 12504,\n",
       " 0.94722106111656268: 40339,\n",
       " 0.95178696727200374: 11796}"
      ]
     },
     "execution_count": 33,
     "metadata": {},
     "output_type": "execute_result"
    }
   ],
   "source": [
    "corrCoeffDict"
   ]
  },
  {
   "cell_type": "code",
   "execution_count": 34,
   "metadata": {},
   "outputs": [
    {
     "name": "stdout",
     "output_type": "stream",
     "text": [
      "10_Gigabit_Ethernet_en.wikipedia.org_desktop_all-agents\n",
      "Umsatzsteuer-Identifikationsnummer_de.wikipedia.org_all-access_all-agents\n",
      "OSI_model_en.wikipedia.org_desktop_all-agents\n",
      "Prokura_de.wikipedia.org_desktop_all-agents\n",
      "Six_Sigma_en.wikipedia.org_desktop_all-agents\n",
      "Unternehmergesellschaft_(haftungsbeschränkt)_de.wikipedia.org_desktop_all-agents\n",
      "List_of_TCP_and_UDP_port_numbers_en.wikipedia.org_all-access_all-agents\n",
      "Incoterms_de.wikipedia.org_all-access_all-agents\n",
      "Umsatzsteuer-Identifikationsnummer_de.wikipedia.org_desktop_all-agents\n",
      "Jour_fixe_de.wikipedia.org_desktop_all-agents\n",
      "Representational_state_transfer_en.wikipedia.org_desktop_all-agents\n",
      "List_of_TCP_and_UDP_port_numbers_en.wikipedia.org_desktop_all-agents\n",
      "Lademeter_de.wikipedia.org_desktop_all-agents\n",
      "CE-Kennzeichnung_de.wikipedia.org_desktop_all-agents\n",
      "Agile_software_development_en.wikipedia.org_desktop_all-agents\n",
      "Lademeter_de.wikipedia.org_all-access_all-agents\n",
      "Gerrit/Advanced_usage_www.mediawiki.org_all-access_all-agents\n",
      "Liste_akademischer_Grade_(Deutschland)_de.wikipedia.org_desktop_all-agents\n",
      "Buchstabiertafel_de.wikipedia.org_desktop_all-agents\n",
      "Gerrit/Advanced_usage_www.mediawiki.org_desktop_all-agents\n",
      "Incoterms_de.wikipedia.org_desktop_all-agents\n"
     ]
    }
   ],
   "source": [
    "print a.iloc[num,3]\n",
    "for key in corrCoeffDict:\n",
    "    print train_df.iloc[corrCoeffDict[key],3] "
   ]
  },
  {
   "cell_type": "code",
   "execution_count": null,
   "metadata": {
    "collapsed": true
   },
   "outputs": [],
   "source": []
  },
  {
   "cell_type": "code",
   "execution_count": null,
   "metadata": {
    "scrolled": false
   },
   "outputs": [],
   "source": []
  },
  {
   "cell_type": "code",
   "execution_count": null,
   "metadata": {
    "scrolled": false
   },
   "outputs": [],
   "source": []
  },
  {
   "cell_type": "code",
   "execution_count": null,
   "metadata": {
    "collapsed": true,
    "scrolled": false
   },
   "outputs": [],
   "source": []
  },
  {
   "cell_type": "code",
   "execution_count": null,
   "metadata": {
    "collapsed": true
   },
   "outputs": [],
   "source": []
  },
  {
   "cell_type": "code",
   "execution_count": null,
   "metadata": {},
   "outputs": [],
   "source": []
  },
  {
   "cell_type": "code",
   "execution_count": null,
   "metadata": {},
   "outputs": [],
   "source": []
  },
  {
   "cell_type": "code",
   "execution_count": null,
   "metadata": {
    "collapsed": true
   },
   "outputs": [],
   "source": []
  }
 ],
 "metadata": {
  "kernelspec": {
   "display_name": "Python 2",
   "language": "python",
   "name": "python2"
  },
  "language_info": {
   "codemirror_mode": {
    "name": "ipython",
    "version": 2
   },
   "file_extension": ".py",
   "mimetype": "text/x-python",
   "name": "python",
   "nbconvert_exporter": "python",
   "pygments_lexer": "ipython2",
   "version": "2.7.14"
  }
 },
 "nbformat": 4,
 "nbformat_minor": 2
}
