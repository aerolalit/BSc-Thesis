{
 "cells": [
  {
   "cell_type": "code",
   "execution_count": 5,
   "metadata": {
    "collapsed": true
   },
   "outputs": [],
   "source": [
    "%matplotlib notebook\n",
    "import pandas as pd\n",
    "import numpy as np\n",
    "import sys\n",
    "from numpy.linalg import inv\n",
    "import math\n",
    "from dateutil.parser import parse\n",
    "import matplotlib.pyplot as plt\n",
    "from dateutil.parser import parse\n",
    "\n",
    "from scipy import stats"
   ]
  },
  {
   "cell_type": "code",
   "execution_count": 2,
   "metadata": {
    "collapsed": true
   },
   "outputs": [],
   "source": [
    "train_df = pd.read_csv(\"../input/train_1.csv\")\n",
    "\n",
    "page_details = pd.DataFrame([i.split(\"_\")[-3:] for i in train_df[\"Page\"]])\n",
    "page_details.columns = [\"project\", \"access\", \"agent\"]\n",
    "\n",
    "train_df = page_details.merge(train_df, how=\"inner\", left_index=True, right_index=True)\n",
    "enWiki_df = train_df.groupby('project').get_group('en.wikipedia.org').groupby('agent').get_group('all-agents')"
   ]
  },
  {
   "cell_type": "code",
   "execution_count": 4,
   "metadata": {},
   "outputs": [
    {
     "name": "stdout",
     "output_type": "stream",
     "text": [
      "A_Series_of_Unfortunate_Events_(TV_series)_en.wikipedia.org_desktop_all-agents\n",
      "A_Series_of_Unfortunate_Events_(TV_series)_en.wikipedia.org_desktop_all-agents\n"
     ]
    }
   ],
   "source": [
    "# Verifies findIndex function works properly\n",
    "\n",
    "def findIndex(name):\n",
    "    count,__ = train_df.shape\n",
    "    for i in range(count):\n",
    "        if train_df.iloc[i,3] == name:\n",
    "            return i\n",
    "        \n",
    "print enWiki_df.iloc[100,3]\n",
    "print train_df.iloc[findIndex(enWiki_df.iloc[100,3]),3]"
   ]
  },
  {
   "cell_type": "code",
   "execution_count": null,
   "metadata": {
    "collapsed": true
   },
   "outputs": [],
   "source": [
    "# verifies that min key function works properly\n",
    "\n",
    "count,__ = train_df.shape\n",
    "corrCoeffDict = {}\n",
    "num = 6\n",
    "for i in range(count):\n",
    "    corrCoeff,__ =  stats.pearsonr(enWiki_df.iloc[num,4:].values, train_df.iloc[i,4:].values)\n",
    "    if not np.isnan(corrCoeff) and enWiki_df.iloc[num,3] != train_df.iloc[i,3]:\n",
    "        if len(corrCoeffDict.keys()) <10:\n",
    "            corrCoeffDict[corrCoeff] = i\n",
    "        elif abs(corrCoeff) > min(np.abs(corrCoeffDict.keys())):\n",
    "            if min(np.abs(corrCoeffDict.keys())) in corrCoeffDict:\n",
    "                del corrCoeffDict[ min(np.abs(corrCoeffDict.keys())) ]\n",
    "            else:\n",
    "                del corrCoeffDict[-1* min(np.abs(corrCoeffDict.keys())) ]\n",
    "            corrCoeffDict[corrCoeff] = i\n",
    "\n",
    "print \"Done.\"\n",
    "\n",
    "print corrCoeffDict.keys()\n",
    "min(np.abs(corrCoeffDict.keys()))"
   ]
  },
  {
   "cell_type": "code",
   "execution_count": null,
   "metadata": {
    "collapsed": true
   },
   "outputs": [],
   "source": [
    "## previous version\n",
    "def inputmapping(x):\n",
    "    temp = np.power(x.astype(float)+shift,powerRaise)\n",
    "    global mean\n",
    "    mean = np.mean(temp)\n",
    "    return temp - mean"
   ]
  },
  {
   "cell_type": "code",
   "execution_count": 6,
   "metadata": {},
   "outputs": [
    {
     "ename": "ZeroDivisionError",
     "evalue": "integer division or modulo by zero",
     "output_type": "error",
     "traceback": [
      "\u001b[0;31m---------------------------------------------------------------------------\u001b[0m",
      "\u001b[0;31mZeroDivisionError\u001b[0m                         Traceback (most recent call last)",
      "\u001b[0;32m<ipython-input-6-f6cc6d14333b>\u001b[0m in \u001b[0;36m<module>\u001b[0;34m()\u001b[0m\n\u001b[0;32m----> 1\u001b[0;31m \u001b[0;36m3\u001b[0m\u001b[0;34m/\u001b[0m\u001b[0;36m0\u001b[0m\u001b[0;34m\u001b[0m\u001b[0m\n\u001b[0m",
      "\u001b[0;31mZeroDivisionError\u001b[0m: integer division or modulo by zero"
     ]
    }
   ],
   "source": [
    "3/0"
   ]
  },
  {
   "cell_type": "code",
   "execution_count": 7,
   "metadata": {},
   "outputs": [
    {
     "ename": "NameError",
     "evalue": "name 'u' is not defined",
     "output_type": "error",
     "traceback": [
      "\u001b[0;31m---------------------------------------------------------------------------\u001b[0m",
      "\u001b[0;31mNameError\u001b[0m                                 Traceback (most recent call last)",
      "\u001b[0;32m<ipython-input-7-a6321b2311cf>\u001b[0m in \u001b[0;36m<module>\u001b[0;34m()\u001b[0m\n\u001b[1;32m      1\u001b[0m \u001b[0;31m# proof that the mean of all of input signal is zero\u001b[0m\u001b[0;34m\u001b[0m\u001b[0;34m\u001b[0m\u001b[0m\n\u001b[0;32m----> 2\u001b[0;31m \u001b[0;32mprint\u001b[0m \u001b[0mnp\u001b[0m\u001b[0;34m.\u001b[0m\u001b[0mmean\u001b[0m\u001b[0;34m(\u001b[0m\u001b[0mu\u001b[0m\u001b[0;34m,\u001b[0m \u001b[0maxis\u001b[0m\u001b[0;34m=\u001b[0m\u001b[0;36m1\u001b[0m\u001b[0;34m)\u001b[0m\u001b[0;34m\u001b[0m\u001b[0m\n\u001b[0m",
      "\u001b[0;31mNameError\u001b[0m: name 'u' is not defined"
     ]
    }
   ],
   "source": [
    "# proof that the mean of all of input signal is zero\n",
    "print np.mean(u, axis=1)"
   ]
  },
  {
   "cell_type": "code",
   "execution_count": null,
   "metadata": {
    "collapsed": true
   },
   "outputs": [],
   "source": []
  }
 ],
 "metadata": {
  "kernelspec": {
   "display_name": "Python 2",
   "language": "python",
   "name": "python2"
  },
  "language_info": {
   "codemirror_mode": {
    "name": "ipython",
    "version": 2
   },
   "file_extension": ".py",
   "mimetype": "text/x-python",
   "name": "python",
   "nbconvert_exporter": "python",
   "pygments_lexer": "ipython2",
   "version": "2.7.14"
  }
 },
 "nbformat": 4,
 "nbformat_minor": 2
}
